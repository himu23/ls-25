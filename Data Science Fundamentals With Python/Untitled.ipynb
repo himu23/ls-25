{
 "cells": [
  {
   "cell_type": "code",
   "execution_count": 12,
   "id": "d944f981",
   "metadata": {},
   "outputs": [],
   "source": [
    "import numpy as np"
   ]
  },
  {
   "cell_type": "code",
   "execution_count": 11,
   "id": "62117267",
   "metadata": {},
   "outputs": [
    {
     "name": "stdout",
     "output_type": "stream",
     "text": [
      "[[15  5 89 44 66]\n",
      " [51 90 95 20 93]\n",
      " [82 64 15 71 81]\n",
      " [76 57 64 57 38]\n",
      " [53 29 46  9 79]]\n"
     ]
    }
   ],
   "source": [
    "arr = np.random.randint(1, 101, size=(5, 5))  #original array\n",
    "print(arr)"
   ]
  },
  {
   "cell_type": "code",
   "execution_count": 10,
   "id": "f2de3eb5",
   "metadata": {},
   "outputs": [
    {
     "name": "stdout",
     "output_type": "stream",
     "text": [
      "98\n"
     ]
    }
   ],
   "source": [
    "print(arr[2, 2]) #middle"
   ]
  },
  {
   "cell_type": "code",
   "execution_count": 9,
   "id": "7ac1e4ec",
   "metadata": {},
   "outputs": [
    {
     "name": "stdout",
     "output_type": "stream",
     "text": [
      "[42.4 83.4 61.4 30.4 55.6]\n"
     ]
    }
   ],
   "source": [
    "print(np.mean(arr, axis=1))"
   ]
  },
  {
   "cell_type": "code",
   "execution_count": 8,
   "id": "bdd66b55",
   "metadata": {},
   "outputs": [
    {
     "name": "stdout",
     "output_type": "stream",
     "text": [
      "54.64\n",
      "[100  95  98  85  57  99  78  98  57  81  90  68  89  59  56]\n"
     ]
    }
   ],
   "source": [
    "overall_mean = np.mean(arr)\n",
    "print(overall_mean)\n",
    "print(arr[arr > overall_mean])"
   ]
  },
  {
   "cell_type": "code",
   "execution_count": 13,
   "id": "5d7eab04",
   "metadata": {},
   "outputs": [],
   "source": [
    "def numpy_spiral_order(matrix):\n",
    "    result = []\n",
    "    top, bottom = 0, matrix.shape[0] - 1\n",
    "    left, right = 0, matrix.shape[1] - 1\n",
    "\n",
    "    while top <= bottom and left <= right:\n",
    "        for i in range(left, right + 1):\n",
    "            result.append(matrix[top, i])\n",
    "        top += 1\n",
    "\n",
    "        for i in range(top, bottom + 1):\n",
    "            result.append(matrix[i, right])\n",
    "        right -= 1\n",
    "\n",
    "        if top <= bottom:\n",
    "            for i in range(right, left - 1, -1):\n",
    "                result.append(matrix[bottom, i])\n",
    "            bottom -= 1\n",
    "\n",
    "        if left <= right:\n",
    "            for i in range(bottom, top - 1, -1):\n",
    "                result.append(matrix[i, left])\n",
    "            left += 1\n",
    "\n",
    "    return result"
   ]
  },
  {
   "cell_type": "code",
   "execution_count": 14,
   "id": "90b2893a",
   "metadata": {},
   "outputs": [
    {
     "name": "stdout",
     "output_type": "stream",
     "text": [
      "Spiral order: [15, 5, 89, 44, 66, 93, 81, 38, 79, 9, 46, 29, 53, 76, 82, 51, 90, 95, 20, 71, 57, 64, 57, 64, 15]\n"
     ]
    }
   ],
   "source": [
    "print(\"Spiral order:\", numpy_spiral_order(arr))"
   ]
  }
 ],
 "metadata": {
  "kernelspec": {
   "display_name": "Python 3 (ipykernel)",
   "language": "python",
   "name": "python3"
  },
  "language_info": {
   "codemirror_mode": {
    "name": "ipython",
    "version": 3
   },
   "file_extension": ".py",
   "mimetype": "text/x-python",
   "name": "python",
   "nbconvert_exporter": "python",
   "pygments_lexer": "ipython3",
   "version": "3.12.3"
  }
 },
 "nbformat": 4,
 "nbformat_minor": 5
}
