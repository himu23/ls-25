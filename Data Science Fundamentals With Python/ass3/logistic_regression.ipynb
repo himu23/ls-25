{
  "cells": [
    {
      "cell_type": "markdown",
      "metadata": {
        "id": "HVl1XF3Y4jFz"
      },
      "source": [
        "### LOGISTIC REGRESSION\n",
        "In this assignment we try to find a relation between average weight of granules and total surface area to see if a material is viable as a catalyst"
      ]
    },
    {
      "cell_type": "code",
      "execution_count": 13,
      "metadata": {
        "id": "1nyYctjk4jF1"
      },
      "outputs": [],
      "source": [
        "# LOGISTIC REGRESSION\n",
        "import numpy as np\n",
        "import pandas as pd\n",
        "import matplotlib.pyplot as plt"
      ]
    },
    {
      "cell_type": "markdown",
      "metadata": {
        "id": "iSD4KqUe4jF2"
      },
      "source": [
        "### Feature mapping\n",
        "Sometimes, we are given an inadequate number of features for which training the dataset becomes difficult.  \n",
        "Hence we create new features of by taking polynomial products of existing ones."
      ]
    },
    {
      "cell_type": "code",
      "execution_count": 14,
      "metadata": {
        "id": "FXCZ1al44jF3"
      },
      "outputs": [],
      "source": [
        "# Generates new features by taking products of various powers of the input features (x and y)\n",
        "# This expands the feature space with polynomial combinations (up to degree 4) of x and y\n",
        "def feature_map(points):\n",
        "    points = np.array(points)\n",
        "    x, y = points[:, 0], points[:, 1]\n",
        "\n",
        "    features = [np.ones_like(x)]  # Bias term\n",
        "    for i in range(1, 5):  # Degree 1 to 4\n",
        "        for j in range(i + 1):\n",
        "            features.append((x ** (i - j)) * (y ** j))\n",
        "\n",
        "    return np.column_stack(features)\n"
      ]
    },
    {
      "cell_type": "markdown",
      "metadata": {
        "id": "VdAw9v6t4jF3"
      },
      "source": [
        "### Creating the class for Logistic Regression"
      ]
    },
    {
      "cell_type": "code",
      "execution_count": 15,
      "metadata": {
        "id": "DBGfzbes4jF4"
      },
      "outputs": [],
      "source": [
        "class LogisticRegression:\n",
        "    def __init__(self) -> None:\n",
        "        self.weights: np.ndarray | None = None\n",
        "        self.bias: float | None = None\n",
        "\n",
        "    # Sigmoid function (TODO 2)\n",
        "    def __sigmoid(self, z: np.ndarray) -> np.ndarray:\n",
        "        return 1 / (1 + np.exp(-z))\n",
        "\n",
        "    # Predict probabilities (TODO 3)\n",
        "    def predict_probability(self, X: np.ndarray) -> np.ndarray:\n",
        "        z = np.dot(X, self.weights) + self.bias\n",
        "        return self.__sigmoid(z)\n",
        "\n",
        "    # Predict binary classes (TODO 4)\n",
        "    def predict(self, X: np.ndarray) -> np.ndarray:\n",
        "        return self.predict_probability(X) >= 0.5\n",
        "\n",
        "    # Loss with L2 regularization (TODO 5)\n",
        "    def __loss(self, X: np.ndarray, y: np.ndarray, lambda_reg: float = 0) -> tuple:\n",
        "        m = X.shape[0]\n",
        "        y_pred = self.predict_probability(X)\n",
        "\n",
        "        loss = -np.mean(y * np.log(y_pred + 1e-8) + (1 - y) * np.log(1 - y_pred + 1e-8))\n",
        "        loss += (lambda_reg / (2 * m)) * np.sum(self.weights ** 2)\n",
        "\n",
        "        dw = (1 / m) * (X.T @ (y_pred - y)) + (lambda_reg / m) * self.weights\n",
        "        db = (1 / m) * np.sum(y_pred - y)\n",
        "\n",
        "        return loss, dw, db\n",
        "\n",
        "    # Fit model using gradient descent (TODO 6)\n",
        "    def fit(self, X: np.ndarray, y: np.ndarray, epochs: int = 500,\n",
        "            learning_rate: float = 0.01, threshold: float = 0.0001,\n",
        "            lambda_reg: float = 1) -> None:\n",
        "\n",
        "        m, n = X.shape\n",
        "        self.weights = np.zeros(n)\n",
        "        self.bias = 0\n",
        "        prev_loss = float('inf')\n",
        "\n",
        "        for _ in range(epochs):\n",
        "            loss, dw, db = self.__loss(X, y, lambda_reg)\n",
        "\n",
        "            self.weights -= learning_rate * dw\n",
        "            self.bias -= learning_rate * db\n",
        "\n",
        "            if abs(prev_loss - loss) < threshold:\n",
        "                break\n",
        "            prev_loss = loss\n"
      ]
    },
    {
      "cell_type": "code",
      "execution_count": 16,
      "metadata": {
        "id": "-Lt3nzR84jF4"
      },
      "outputs": [],
      "source": [
        "# Importing data\n",
        "df = pd.read_csv('logistic_data.csv')\n",
        "data = df.to_numpy()\n",
        "X = data[:, :2]\n",
        "y = data[:, 2]\n",
        "\n",
        "# Creating train-test split\n",
        "from sklearn.model_selection import train_test_split\n",
        "X_train, X_test, y_train, y_test = train_test_split(X, y, test_size=0.2, random_state=42)\n"
      ]
    },
    {
      "cell_type": "code",
      "execution_count": 17,
      "metadata": {
        "id": "tPfR0h9b4jF5"
      },
      "outputs": [],
      "source": [
        "def z_score(X: np.ndarray) -> tuple:\n",
        "    x_mean = X.mean(axis=0)\n",
        "    x_std = X.std(axis=0)\n",
        "    x = (X - x_mean) / x_std\n",
        "    return x, x_mean, x_std\n"
      ]
    },
    {
      "cell_type": "code",
      "execution_count": 18,
      "metadata": {
        "id": "goj-Zatz4jF5"
      },
      "outputs": [],
      "source": [
        "# Normalizing the data (we use the same constants to maintain consistency)\n",
        "X_train, x_mean, x_std = z_score(X_train)\n",
        "X_test = (X_test - x_mean) / x_std\n",
        "\n",
        "x_train = feature_map(X_train)\n",
        "x_test = feature_map(X_test)\n"
      ]
    },
    {
      "cell_type": "code",
      "execution_count": 19,
      "metadata": {
        "id": "JwV2B04-4jF6",
        "outputId": "ccc9444a-f965-4db6-b49b-411dcd549bea",
        "colab": {
          "base_uri": "https://localhost:8080/"
        }
      },
      "outputs": [
        {
          "output_type": "stream",
          "name": "stdout",
          "text": [
            "Your model has an accuracy of 87.50%\n"
          ]
        }
      ],
      "source": [
        "# Checking accuracy of test model\n",
        "model = LogisticRegression()\n",
        "model.fit(x_train, y_train, epochs=10000, learning_rate=0.1, threshold=1e-6, lambda_reg=1)\n",
        "\n",
        "y_pred = model.predict(x_test)\n",
        "accuracy = np.mean(y_pred == y_test) * 100\n",
        "print(f\"Your model has an accuracy of {accuracy:.2f}%\")\n"
      ]
    },
    {
      "cell_type": "markdown",
      "metadata": {
        "id": "8KdNNFHM4jF6"
      },
      "source": [
        "We plot the decision boundary that the model predicts. This can be used to check for overfitting.  \n",
        "If the boundary starts looking like an ameoba trying to fit every point, then it is a sign of overfitting."
      ]
    },
    {
      "cell_type": "code",
      "execution_count": 20,
      "metadata": {
        "id": "vZu_wp9e4jF6"
      },
      "outputs": [],
      "source": [
        "def plot_decision_boundary(X_original, y, model, resolution=500):\n",
        "    x_min, x_max = X_original[:, 0].min() - 1, X_original[:, 0].max() + 1\n",
        "    y_min, y_max = X_original[:, 1].min() - 1, X_original[:, 1].max() + 1\n",
        "    xx, yy = np.meshgrid(np.linspace(x_min, x_max, resolution),\n",
        "                         np.linspace(y_min, y_max, resolution))\n",
        "\n",
        "    grid_original = np.c_[xx.ravel(), yy.ravel()]\n",
        "    grid_expanded = feature_map(grid_original)\n",
        "    Z = model.predict(grid_expanded).reshape(xx.shape)\n",
        "\n",
        "    true_points = X_original[y == 1]\n",
        "    false_points = X_original[y == 0]\n",
        "\n",
        "    plt.scatter(true_points[:, 0], true_points[:, 1], label=\"True\", c=\"blue\", marker=\"o\", s=20)\n",
        "    plt.scatter(false_points[:, 0], false_points[:, 1], label=\"False\", c=\"red\", marker=\"x\", s=20)\n",
        "    plt.contour(xx, yy, Z, levels=[0.5], colors=\"black\", linewidths=2)\n",
        "    plt.xlabel(\"Feature 1\")\n",
        "    plt.ylabel(\"Feature 2\")\n",
        "    plt.title(\"Decision Boundary and Data Points\")\n",
        "    plt.legend()\n",
        "    plt.show()\n"
      ]
    },
    {
      "cell_type": "code",
      "source": [
        "# Plotting the contour and checking for overfitting\n",
        "plot_decision_boundary(((X - x_mean) / x_std), y, model)\n"
      ],
      "metadata": {
        "id": "Oz2ZAYEw6Dvn",
        "outputId": "c233bae6-7f86-4279-a72f-f559ea547cc2",
        "colab": {
          "base_uri": "https://localhost:8080/",
          "height": 472
        }
      },
      "execution_count": 21,
      "outputs": [
        {
          "output_type": "display_data",
          "data": {
            "text/plain": [
              "<Figure size 640x480 with 1 Axes>"
            ],
            "image/png": "[encoded data removed]"
          },
          "metadata": {}
        }
      ]
    }
  ],
  "metadata": {
    "kernelspec": {
      "display_name": ".venv",
      "language": "python",
      "name": "python3"
    },
    "language_info": {
      "codemirror_mode": {
        "name": "ipython",
        "version": 3
      },
      "file_extension": ".py",
      "mimetype": "text/x-python",
      "name": "python",
      "nbconvert_exporter": "python",
      "pygments_lexer": "ipython3",
      "version": "3.12.4"
    },
    "colab": {
      "provenance": []
    }
  },
  "nbformat": 4,
  "nbformat_minor": 0
}