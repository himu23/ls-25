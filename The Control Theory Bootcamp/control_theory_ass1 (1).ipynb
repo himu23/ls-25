{
  "cells": [
    {
      "cell_type": "code",
      "execution_count": null,
      "metadata": {
        "colab": {
          "base_uri": "https://localhost:8080/",
          "height": 0
        },
        "id": "nqP4-PpocYdh",
        "outputId": "454d6d59-8fab-4d42-dd6c-e815ea5b74fd"
      },
      "outputs": [
        {
          "name": "stdout",
          "output_type": "stream",
          "text": [
            "Collecting control\n",
            "  Downloading control-0.10.1-py3-none-any.whl.metadata (7.6 kB)\n",
            "Requirement already satisfied: numpy>=1.23 in /usr/local/lib/python3.11/dist-packages (from control) (2.0.2)\n",
            "Requirement already satisfied: scipy>=1.8 in /usr/local/lib/python3.11/dist-packages (from control) (1.15.3)\n",
            "Requirement already satisfied: matplotlib>=3.6 in /usr/local/lib/python3.11/dist-packages (from control) (3.10.0)\n",
            "Requirement already satisfied: contourpy>=1.0.1 in /usr/local/lib/python3.11/dist-packages (from matplotlib>=3.6->control) (1.3.2)\n",
            "Requirement already satisfied: cycler>=0.10 in /usr/local/lib/python3.11/dist-packages (from matplotlib>=3.6->control) (0.12.1)\n",
            "Requirement already satisfied: fonttools>=4.22.0 in /usr/local/lib/python3.11/dist-packages (from matplotlib>=3.6->control) (4.58.2)\n",
            "Requirement already satisfied: kiwisolver>=1.3.1 in /usr/local/lib/python3.11/dist-packages (from matplotlib>=3.6->control) (1.4.8)\n",
            "Requirement already satisfied: packaging>=20.0 in /usr/local/lib/python3.11/dist-packages (from matplotlib>=3.6->control) (24.2)\n",
            "Requirement already satisfied: pillow>=8 in /usr/local/lib/python3.11/dist-packages (from matplotlib>=3.6->control) (11.2.1)\n",
            "Requirement already satisfied: pyparsing>=2.3.1 in /usr/local/lib/python3.11/dist-packages (from matplotlib>=3.6->control) (3.2.3)\n",
            "Requirement already satisfied: python-dateutil>=2.7 in /usr/local/lib/python3.11/dist-packages (from matplotlib>=3.6->control) (2.9.0.post0)\n",
            "Requirement already satisfied: six>=1.5 in /usr/local/lib/python3.11/dist-packages (from python-dateutil>=2.7->matplotlib>=3.6->control) (1.17.0)\n",
            "Downloading control-0.10.1-py3-none-any.whl (549 kB)\n",
            "\u001b[2K   \u001b[90m━━━━━━━━━━━━━━━━━━━━━━━━━━━━━━━━━━━━━━━━\u001b[0m \u001b[32m549.6/549.6 kB\u001b[0m \u001b[31m15.1 MB/s\u001b[0m eta \u001b[36m0:00:00\u001b[0m\n",
            "\u001b[?25hInstalling collected packages: control\n",
            "Successfully installed control-0.10.1\n"
          ]
        }
      ],
      "source": [
        "# !pip install control"
      ]
    },
    {
      "cell_type": "code",
      "execution_count": 5,
      "metadata": {
        "id": "7U0q2wx7bceW"
      },
      "outputs": [],
      "source": [
        "import numpy as np\n",
        "import matplotlib.pyplot as plt\n",
        "from control import TransferFunction, step_response\n",
        "from ipywidgets import interact, FloatSlider"
      ]
    },
    {
      "cell_type": "code",
      "execution_count": 2,
      "metadata": {
        "id": "N9_mv-RSbn8-"
      },
      "outputs": [],
      "source": [
        "def plot_step_response(zeta=0.7, omega_n=2.0, K=10):\n",
        "    a = 2 * zeta * omega_n\n",
        "    b = omega_n**2\n",
        "\n",
        "    num = [K]\n",
        "    den = [1, a, b]\n",
        "\n",
        "    sys = TransferFunction(num, den)\n",
        "    t, y = step_response(sys)\n",
        "\n",
        "    plt.figure(figsize=(8, 4))\n",
        "    plt.plot(t, y)\n",
        "    plt.title(f'Step Response (ζ={zeta}, ωₙ={omega_n}, K={K})')\n",
        "    plt.xlabel('Time (s)')\n",
        "    plt.ylabel('Response')\n",
        "    plt.grid(True)\n",
        "    plt.ylim(0, max(1.5, max(y) + 0.1))\n",
        "    plt.axhline(1, color='r', linestyle='--', linewidth=0.8, label='Target (200mL)')\n",
        "    plt.legend()\n",
        "    plt.show()\n"
      ]
    },
    {
      "cell_type": "code",
      "execution_count": 6,
      "metadata": {
        "colab": {
          "base_uri": "https://localhost:8080/",
          "height": 593,
          "referenced_widgets": [
            "6ff1019be44c4cceb7e71cb06a9883e5",
            "07d2b1463f114a7ea0ce54e4dc331e50",
            "7087e33a76a04c0786e8229548937a8e",
            "62349018a20d446e9616eb0777a9038c",
            "c25c7a0fd99142df8eb8951ffc3e9451",
            "f057483d28b045ae903b2a099f439f86",
            "12a8925e0d274666abeb80bf2c2e9b10",
            "29cf4619cee540c59cdfd48d891f5c5f",
            "4c3db277c33c49bfa708877b6c0565c7",
            "553731c764a84c75bae7e79e1bb34b89",
            "86199d919c8c407a97550e85ea06c01d",
            "5adbb8ef0e964c4fa3bb80bca18a440a",
            "a2dfb066be284fa48e2a8cb5941e26af"
          ]
        },
        "id": "siHULrtzbrLG",
        "outputId": "9da3a474-3c21-42bc-d0b9-e9194710eb4e"
      },
      "outputs": [
        {
          "data": {
            "application/vnd.jupyter.widget-view+json": {
              "model_id": "6ff1019be44c4cceb7e71cb06a9883e5",
              "version_major": 2,
              "version_minor": 0
            },
            "text/plain": [
              "interactive(children=(FloatSlider(value=0.7, description='ζ', max=2.0, step=0.05), FloatSlider(value=2.0, desc…"
            ]
          },
          "metadata": {},
          "output_type": "display_data"
        },
        {
          "data": {
            "text/html": [
              "<div style=\"max-width:800px; border: 1px solid var(--colab-border-color);\"><style>\n",
              "      pre.function-repr-contents {\n",
              "        overflow-x: auto;\n",
              "        padding: 8px 12px;\n",
              "        max-height: 500px;\n",
              "      }\n",
              "\n",
              "      pre.function-repr-contents.function-repr-contents-collapsed {\n",
              "        cursor: pointer;\n",
              "        max-height: 100px;\n",
              "      }\n",
              "    </style>\n",
              "    <pre style=\"white-space: initial; background:\n",
              "         var(--colab-secondary-surface-color); padding: 8px 12px;\n",
              "         border-bottom: 1px solid var(--colab-border-color);\"><b>plot_step_response</b><br/>def plot_step_response(zeta=0.7, omega_n=2.0, K=10)</pre><pre class=\"function-repr-contents function-repr-contents-collapsed\" style=\"\"><a class=\"filepath\" style=\"display:none\" href=\"#\">/content/&lt;ipython-input-2-2978710923&gt;</a>&lt;no docstring&gt;</pre></div>"
            ],
            "text/plain": [
              "<function __main__.plot_step_response(zeta=0.7, omega_n=2.0, K=10)>"
            ]
          },
          "execution_count": 6,
          "metadata": {},
          "output_type": "execute_result"
        }
      ],
      "source": [
        "interact(\n",
        "    plot_step_response,\n",
        "    zeta=FloatSlider(value=0.7, min=0, max=2, step=0.05, description='ζ'),\n",
        "    omega_n=FloatSlider(value=2.0, min=0.1, max=10, step=0.1, description='ωₙ'),\n",
        "    K=FloatSlider(value=10, min=1, max=20, step=1, description='K')\n",
        ")"
      ]
    }
  ],
  "metadata": {
    "colab": {
      "provenance": []
    },
    "kernelspec": {
      "display_name": "Python 3",
      "name": "python3"
    },
    "language_info": {
      "name": "python"
    },
    "widgets": {
      "application/vnd.jupyter.widget-state+json": {
      }
    }
  },
  "nbformat": 4,
  "nbformat_minor": 0
}
