{
  "nbformat": 4,
  "nbformat_minor": 0,
  "metadata": {
    "colab": {
      "provenance": []
    },
    "kernelspec": {
      "name": "python3",
      "display_name": "Python 3"
    },
    "language_info": {
      "name": "python"
    }
  },
  "cells": [
    {
      "cell_type": "markdown",
      "source": [
        "#**Assignment** 1: Simulating a 2D Lennard-Jones Fluid"
      ],
      "metadata": {
        "id": "b6K6_RJXDlpD"
      }
    },
    {
      "cell_type": "markdown",
      "source": [
        "## Week 1: Computational Soft & Active Matter\n",
        "\n",
        "In this assignment, you’ll implement a basic molecular dynamics (MD) simulation of a simple fluid\n",
        "\n"
      ],
      "metadata": {
        "id": "z9xnQvlqDtJL"
      }
    },
    {
      "cell_type": "markdown",
      "source": [
        "#### Fill in the code where there is an explicit \"TO DO\" comment\n",
        "#### You are allowed to change the code as long as the final output remains the same, following cues will be easier though"
      ],
      "metadata": {
        "id": "lhYZ2--FD3Bm"
      }
    },
    {
      "cell_type": "markdown",
      "source": [
        "## 1. The Lennard-Jones Potential\n",
        "**Background:**\n",
        "\n",
        "The Lennard-Jones (LJ) potential models the interaction between a pair of neutral atoms or molecules. It has a short-range repulsion (prevents particles from overlapping) and a longer-range attraction (models van der Waals forces). The LJ potential is widely used in simulations of liquids and soft matter.\n",
        "\n",
        "$$\n",
        "V(r) = 4\\epsilon \\left[ \\left( \\frac{\\sigma}{r} \\right)^{12} - \\left( \\frac{\\sigma}{r} \\right)^6 \\right]\n",
        "$$\n",
        "\n",
        "\n",
        "- $\\epsilon$: Depth of the potential well.\n",
        "- $\\sigma$: Finite distance at which the inter-particle potential is zero.\n",
        "- **Cutoff:** For efficiency, we use a cutoff $r_c$, setting the potential and force to zero for $r > r_c$.\n",
        "\n"
      ],
      "metadata": {
        "id": "_GINs28jD-QG"
      }
    },
    {
      "cell_type": "code",
      "source": [
        "import numpy as np\n",
        "import matplotlib.pyplot as plt"
      ],
      "metadata": {
        "id": "kBVlEh3LviDe"
      },
      "execution_count": 50,
      "outputs": []
    },
    {
      "cell_type": "code",
      "source": [
        "# Lennard-Jones force and potential\n",
        "def lennard_jones_force(r_vec, epsilon=1.0, sigma=1.0, r_cutoff=2.5):\n",
        "    '''\n",
        "    Calculate the Lennard-Jones force and potential between two particles.\n",
        "    r_vec: displacement vector between particles (numpy array, shape (2,))\n",
        "    Returns: force (numpy array), potential (float)\n",
        "    '''\n",
        "    r2 = np.dot(r_vec, r_vec)\n",
        "    r_c2 = r_cutoff**2\n",
        "    if r2 < 1e-12 or r2 >= r_c2:\n",
        "        return np.zeros_like(r_vec), 0.0\n",
        "    inv_r2 = sigma**2 / r2\n",
        "    inv_r6 = inv_r2 ** 3\n",
        "    inv_r12 = inv_r6 ** 2\n",
        "    # Potential\n",
        "    potential = 4 * epsilon * (inv_r12 - inv_r6)#TO DO\n",
        "    # Force magnitude (negative derivative of potential)\n",
        "    force_mag = 24 * epsilon * (2 * inv_r12 - inv_r6) / np.sqrt(r2)#TO DO\n",
        "    force_vec = force_mag * r_vec / np.sqrt(r2)\n",
        "    return force_vec, potential"
      ],
      "metadata": {
        "id": "liAanO5dDopU"
      },
      "execution_count": 51,
      "outputs": []
    },
    {
      "cell_type": "markdown",
      "source": [
        "## 2.Periodic Boundary Conditions\n",
        "**Background:**\n",
        "\n",
        "To mimic a bulk system (no walls), we use periodic boundaries: particles exiting one side of the box re-enter from the opposite side. This reduces boundary effects and better models infinite systems.\n",
        "\n",
        "\n"
      ],
      "metadata": {
        "id": "zUG8uvQqEM1J"
      }
    },
    {
      "cell_type": "code",
      "source": [
        "def apply_periodic(pos, box_length):\n",
        "    \"\"\"\n",
        "    Apply periodic boundary conditions by wrapping positions into the primary simulation cell.\n",
        "\n",
        "    Math:\n",
        "        For each coordinate: x_wrapped = x mod L, so that x_wrapped ∈ [0, L)\n",
        "\n",
        "    Parameters:\n",
        "        pos : np.ndarray\n",
        "            Array of particle positions, shape (N, dim) or (...).\n",
        "        box_length : float\n",
        "            Length of the (cubic) simulation box.\n",
        "\n",
        "    Returns:\n",
        "        np.ndarray\n",
        "            Positions wrapped into [0, box_length) along each axis.\n",
        "    \"\"\"\n",
        "    return pos % box_length #TO DO\n",
        "\n",
        "\n",
        "def minimum_image(r_vec, box_length):\n",
        "    \"\"\"\n",
        "    Compute the minimum-image displacement vector under periodic boundaries.\n",
        "\n",
        "    Math:\n",
        "        Δx = x_j − x_i − L * round((x_j − x_i) / L)\n",
        "        applied component-wise ensures you always get the shortest separation.\n",
        "\n",
        "    Parameters:\n",
        "        r_vec : np.ndarray\n",
        "            Raw displacement vector(s) between two particles, shape (N, dim) or (dim,).\n",
        "        box_length : float\n",
        "            Length of the simulation box.\n",
        "\n",
        "    Returns:\n",
        "        np.ndarray\n",
        "            Displacement(s) shifted into the primary image,\n",
        "            so that each component lies in [−L/2, L/2).\n",
        "\n",
        "\n",
        "    \"\"\"\n",
        "    return r_vec - box_length * np.round(r_vec / box_length) #TO DO"
      ],
      "metadata": {
        "id": "753zcNlYESLO"
      },
      "execution_count": 52,
      "outputs": []
    },
    {
      "cell_type": "markdown",
      "source": [
        "## 3.Numerical Integration Methods\n",
        "**Background:**\n",
        "\n",
        "In molecular dynamics, we advance particles using their positions, velocities, and the forces acting on them.  \n",
        "Two common numerical schemes are the **Euler method** and the **Velocity Verlet method**.\n",
        "\n",
        "\n",
        "### **1. Euler Method**\n",
        "\n",
        "The (explicit) Euler method updates positions and velocities as follows:\n",
        "\n",
        "$$\n",
        "\\boxed{\n",
        "\\begin{align*}\n",
        "\\mathbf{x}_{t+\\Delta t} &= \\mathbf{x}_t + \\mathbf{v}_t \\, \\Delta t \\\\\n",
        "\\mathbf{v}_{t+\\Delta t} &= \\mathbf{v}_t + \\mathbf{a}_t \\, \\Delta t\n",
        "\\end{align*}\n",
        "}\n",
        "$$\n",
        "\n",
        "\n",
        "---\n",
        "\n",
        "### **2. Velocity Verlet Method**\n",
        "\n",
        "Velocity Verlet is a more accurate and stable integrator, especially for molecular dynamics.  \n",
        "It updates positions and velocities using:\n",
        "\n",
        "$$\n",
        "\\boxed{\n",
        "\\begin{align*}\n",
        "\\mathbf{x}_{t+\\Delta t} &= \\mathbf{x}_t + \\mathbf{v}_t \\Delta t + \\frac{1}{2} \\mathbf{a}_t \\Delta t^2 \\\\\n",
        "\\mathbf{a}_{t+\\Delta t} &= \\frac{\\mathbf{F}_{t+\\Delta t}}{m} \\\\\n",
        "\\mathbf{v}_{t+\\Delta t} &= \\mathbf{v}_t + \\frac{1}{2} \\left( \\mathbf{a}_t + \\mathbf{a}_{t+\\Delta t} \\right) \\Delta t\n",
        "\\end{align*}\n",
        "}\n",
        "$$\n",
        "\n",
        "---\n",
        "\n",
        "Implement the update steps for both integrators.  \n"
      ],
      "metadata": {
        "id": "2oBekGDMEkYA"
      }
    },
    {
      "cell_type": "code",
      "source": [
        "def euler_step(positions, velocities, forces, dt, box_length):\n",
        "    \"\"\"\n",
        "    Perform one Euler integration step\n",
        "\n",
        "    Apply periodic boundary conditions to keep particles inside the box.\n",
        "    \"\"\"\n",
        "    #Update positions using the Euler method:\n",
        "    positions_new = positions + velocities * dt\n",
        "\n",
        "    # TODO: Wrap positions into the simulation box:\n",
        "    positions_new = apply_periodic(positions_new, box_length)\n",
        "\n",
        "    # TODO: Update velocities using the Euler method:\n",
        "    velocities_new = velocities + forces * dt\n",
        "\n",
        "    # TODO: return the new positions and velocities\n",
        "    return positions_new, velocities_new\n",
        "\n",
        "\n"
      ],
      "metadata": {
        "id": "cuVr8jeaEloR"
      },
      "execution_count": 53,
      "outputs": []
    },
    {
      "cell_type": "code",
      "source": [
        "def velocity_verlet_step(positions, velocities, forces, dt, box_length, **force_args):\n",
        "    \"\"\"\n",
        "    Perform one Velocity Verlet integration step.\n",
        "\n",
        "    Apply periodic boundary conditions after updating positions.\n",
        "    \"\"\"\n",
        "    # TODO: Update positions using Velocity Verlet formula:\n",
        "    positions_new = positions + velocities * dt + 0.5 * forces * dt**2\n",
        "\n",
        "    # TODO: Wrap positions into the simulation box:\n",
        "    positions_new = apply_periodic(positions_new, box_length)\n",
        "\n",
        "    # TODO: Compute new forces at the updated positions:\n",
        "    forces_new, _ = compute_forces(positions_new, box_length, **force_args)\n",
        "\n",
        "    # TODO: Update velocities using the Velocity Verlet formula:\n",
        "    velocities_new = velocities + 0.5 * (forces + forces_new) * dt\n",
        "\n",
        "    # TODO: return positions_new, velocities_new, forces_new\n",
        "\n",
        "    return positions_new, velocities_new, forces_new\n",
        "\n"
      ],
      "metadata": {
        "id": "Sz9xdJHKE2BQ"
      },
      "execution_count": 54,
      "outputs": []
    },
    {
      "cell_type": "markdown",
      "source": [
        "## 4. Initialization of the System\n",
        "**Background:**\n",
        "\n",
        "We need to carefully set up initial positions (to avoid overlaps) and velocities (matching a target temperature, using a random Gaussian distribution).\n",
        "\n",
        "\n"
      ],
      "metadata": {
        "id": "2mI362SiE-bT"
      }
    },
    {
      "cell_type": "code",
      "source": [
        "#NO CHANGES REQUIRED IN THIS SECTION, RUN THIS\n",
        "def initialize_system(N, box_length, temperature):\n",
        "    \"\"\"\n",
        "    Places N particles on a square grid inside the box,\n",
        "    adds small random displacements, and assigns velocities\n",
        "    based on the desired temperature.\n",
        "    \"\"\"\n",
        "    # Step 1: Arrange particles on a square grid\n",
        "    n_side = int(np.ceil(np.sqrt(N)))           # Particles per row/column\n",
        "    spacing = box_length / n_side               # Grid spacing\n",
        "    positions = []\n",
        "\n",
        "    for i in range(N):\n",
        "        col = i % n_side\n",
        "        row = i // n_side\n",
        "        x = (col + 0.5) * spacing\n",
        "        y = (row + 0.5) * spacing\n",
        "        positions.append([x, y])\n",
        "\n",
        "    positions = np.array(positions[:N])\n",
        "\n",
        "    # Add small random displacement to avoid perfect grid symmetry\n",
        "    positions += 0.1 * spacing * (np.random.rand(N, 2) - 0.5)\n",
        "\n",
        "    # Initialize velocities from a normal distribution\n",
        "    velocities = np.random.normal(0, np.sqrt(temperature), (N, 2))\n",
        "\n",
        "    # Shift velocities to remove net momentum (center of mass velocity = 0)\n",
        "    velocities -= np.mean(velocities, axis=0)\n",
        "\n",
        "    return positions, velocities\n",
        "def compute_forces(positions, box_length, epsilon=1.0, sigma=1.0, r_cutoff=2.5):\n",
        "    N = len(positions)\n",
        "    forces = np.zeros_like(positions)\n",
        "    total_potential = 0.0\n",
        "    for i in range(N):\n",
        "        for j in range(i + 1, N):\n",
        "            r_vec = minimum_image(positions[j] - positions[i], box_length)\n",
        "            f_ij, pot = lennard_jones_force(r_vec, epsilon, sigma, r_cutoff)\n",
        "            forces[i] += f_ij\n",
        "            forces[j] -= f_ij\n",
        "            total_potential += pot\n",
        "    return forces, total_potential"
      ],
      "metadata": {
        "id": "3VWwWAslFCeb"
      },
      "execution_count": 55,
      "outputs": []
    },
    {
      "cell_type": "markdown",
      "source": [
        "## 5. Energy Conservation in Simulations\n",
        "**Background:**\n",
        "\n",
        "Physical systems conserve total energy (if isolated). Good integration schemes should keep energy nearly constant, aside from small numerical errors.\n",
        "\n",
        "**Learning Objective:** Calculate the total kinetic and potential energy.\n"
      ],
      "metadata": {
        "id": "mb3c64zTFNkD"
      }
    },
    {
      "cell_type": "code",
      "source": [
        "# IMPLEMENT: Energy calculation, returrn kinetic + potential energy for unit mass\n",
        "def total_energy(velocities, potential):\n",
        "    kinetic= 0.5 * np.sum(velocities**2) #TO DO\n",
        "    total= kinetic + potential #TO DO\n",
        "    return total"
      ],
      "metadata": {
        "id": "I8ezGCM9FVGg"
      },
      "execution_count": 56,
      "outputs": []
    },
    {
      "cell_type": "markdown",
      "source": [
        "## 6. Running the Simulation\n",
        "NO TO DO here, just run these blocks, implementing the above functions\n",
        "\n",
        "Simulate $N=25$ particles in a $L=7.0$ box at $T=1.0$ using both Euler and Velocity Verlet integration, record the energy, and compare results.\n",
        "\n"
      ],
      "metadata": {
        "id": "dgMZXsuyFXiN"
      }
    },
    {
      "cell_type": "code",
      "source": [
        "# ------------------------\n",
        "# Euler Simulation Block\n",
        "# ------------------------\n",
        "\n",
        "# Simulation parameters\n",
        "N = 25\n",
        "L = 7.0\n",
        "T = 1.0\n",
        "dt = 0.005\n",
        "steps = 10000\n",
        "\n",
        "# Initialize the system\n",
        "pos_e, vel_e = initialize_system(N, L, T)\n",
        "\n",
        "# Compute initial forces and potential\n",
        "forces_e, pot_e = compute_forces(pos_e, L)\n",
        "\n",
        "# Run the simulation\n",
        "energy_e = []\n",
        "for step in range(steps):\n",
        "    pos_e, vel_e = euler_step(pos_e, vel_e, forces_e, dt, L)\n",
        "    forces_e, pot_e = compute_forces(pos_e, L)\n",
        "    energy_e.append(total_energy(vel_e, pot_e))"
      ],
      "metadata": {
        "id": "MQFbayM5FZUN"
      },
      "execution_count": 57,
      "outputs": []
    },
    {
      "cell_type": "code",
      "source": [
        "# -----------------------------\n",
        "# Velocity Verlet Simulation Block\n",
        "# -----------------------------\n",
        "\n",
        "# Simulation parameters\n",
        "N = 25\n",
        "L = 7.0\n",
        "T = 1.0\n",
        "dt = 0.005\n",
        "steps = 10000\n",
        "\n",
        "# Initialize the system\n",
        "pos_v, vel_v = initialize_system(N, L, T)\n",
        "\n",
        "# Compute initial forces and potential\n",
        "forces_v, pot_v = compute_forces(pos_v, L)\n",
        "\n",
        "# Run the simulation\n",
        "energy_v = []\n",
        "for step in range(steps):\n",
        "    pos_v, vel_v, forces_v = velocity_verlet_step(pos_v, vel_v, forces_v, dt, L)\n",
        "    forces_v, pot_v = compute_forces(pos_v, L)\n",
        "    energy_v.append(total_energy(vel_v, pot_v))"
      ],
      "metadata": {
        "id": "BW-NW83jFMKw"
      },
      "execution_count": 58,
      "outputs": []
    },
    {
      "cell_type": "markdown",
      "source": [
        "## 7. Plotting Energy Conservation\n",
        "NO TO DO here, just run these blocks, implementing the above functions\n",
        "\n",
        "\n",
        "**Learning Objective:** Interpret energy drift and compare the performance of Euler vs. Velocity Verlet.\n",
        "import matplotlib.pyplot as plt\n",
        "import numpy as np\n",
        "\n",
        "\n",
        "\n"
      ],
      "metadata": {
        "id": "sLXi4lyUFjjj"
      }
    },
    {
      "cell_type": "code",
      "source": [
        "def plot_energy(energies, dt, label=None):\n",
        "    \"\"\"\n",
        "    Plots total energy vs simulation time.\n",
        "        \"\"\"\n",
        "    times = np.arange(len(energies)) * dt\n",
        "    plt.plot(times, energies, label=label)\n",
        "    plt.xlabel(\"Time\")\n",
        "    plt.ylabel(\"Total Energy\")\n",
        "    plt.title(\"Energy Conservation Over Time\")\n",
        "    if label:\n",
        "        plt.legend()\n",
        "    plt.grid(True)\n",
        "    plt.tight_layout()\n",
        "    plt.show()\n",
        "\n",
        "# Plot both simulations\n",
        "plot_energy(energy_e, dt, label=\"Euler\")\n",
        "plot_energy(energy_v, dt, label=\"Velocity Verlet\")\n"
      ],
      "metadata": {
        "id": "x5NBHzizFm9I",
        "outputId": "cfea1598-8c29-4e25-b65d-906c601024ad",
        "colab": {
          "base_uri": "https://localhost:8080/",
          "height": 957
        }
      },
      "execution_count": 59,
      "outputs": [
        {
          "output_type": "display_data",
          "data": {
            "text/plain": [
              "<Figure size 640x480 with 1 Axes>"
            ],
            "image/png": "[encoded data removed]"
          },
          "metadata": {}
        },
        {
          "output_type": "display_data",
          "data": {
            "text/plain": [
              "<Figure size 640x480 with 1 Axes>"
            ],
            "image/png": "[encoded data removed]"
          },
          "metadata": {}
        }
      ]
    },
    {
      "cell_type": "markdown",
      "source": [
        "## 9. Discussion\n",
        "**Type your answers below:**\n",
        "\n",
        "- Which integrator conserves energy better? Why?"
      ],
      "metadata": {
        "id": "cricXVKaFpUs"
      }
    },
    {
      "cell_type": "markdown",
      "source": [
        "The Velocity Verlet integrator conserves energy better than Euler method. Because Velocity Verlet is time-reversible and symplectic, which helps it preserve the total energy of the system over long simulations. Whereas, Euler is an explicit method that accumulates error over time, leading to energy drift and inaccurate dynamics.\n"
      ],
      "metadata": {
        "id": "yv1sne3At2ib"
      }
    }
  ]
}